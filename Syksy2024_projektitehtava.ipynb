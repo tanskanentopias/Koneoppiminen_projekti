{
  "nbformat": 4,
  "nbformat_minor": 0,
  "metadata": {
    "colab": {
      "provenance": [],
      "gpuType": "T4",
      "include_colab_link": true
    },
    "kernelspec": {
      "name": "python3",
      "display_name": "Python 3"
    },
    "language_info": {
      "name": "python"
    },
    "accelerator": "GPU"
  },
  "cells": [
    {
      "cell_type": "markdown",
      "metadata": {
        "id": "view-in-github",
        "colab_type": "text"
      },
      "source": [
        "<a href=\"https://colab.research.google.com/github/tanskanentopias/Koneoppiminen_projekti/blob/main/Syksy2024_projektitehtava.ipynb\" target=\"_parent\"><img src=\"https://colab.research.google.com/assets/colab-badge.svg\" alt=\"Open In Colab\"/></a>"
      ]
    },
    {
      "cell_type": "code",
      "source": [
        "!pip install --upgrade pip\n",
        "!pip install --upgrade keras\n",
        "!pip install -U -q tensorflow\n",
        "#!pip show keras\n"
      ],
      "metadata": {
        "colab": {
          "base_uri": "https://localhost:8080/"
        },
        "id": "Jpr5xhQ34uyD",
        "outputId": "f491ee83-b650-49eb-98be-ec120cecaadd"
      },
      "execution_count": 9,
      "outputs": [
        {
          "output_type": "stream",
          "name": "stdout",
          "text": [
            "Requirement already satisfied: pip in /usr/local/lib/python3.10/dist-packages (24.2)\n",
            "Requirement already satisfied: keras in /usr/local/lib/python3.10/dist-packages (3.6.0)\n",
            "Requirement already satisfied: absl-py in /usr/local/lib/python3.10/dist-packages (from keras) (1.4.0)\n",
            "Requirement already satisfied: numpy in /usr/local/lib/python3.10/dist-packages (from keras) (1.26.4)\n",
            "Requirement already satisfied: rich in /usr/local/lib/python3.10/dist-packages (from keras) (13.9.1)\n",
            "Requirement already satisfied: namex in /usr/local/lib/python3.10/dist-packages (from keras) (0.0.8)\n",
            "Requirement already satisfied: h5py in /usr/local/lib/python3.10/dist-packages (from keras) (3.11.0)\n",
            "Requirement already satisfied: optree in /usr/local/lib/python3.10/dist-packages (from keras) (0.13.0)\n",
            "Requirement already satisfied: ml-dtypes in /usr/local/lib/python3.10/dist-packages (from keras) (0.4.1)\n",
            "Requirement already satisfied: packaging in /usr/local/lib/python3.10/dist-packages (from keras) (24.1)\n",
            "Requirement already satisfied: typing-extensions>=4.5.0 in /usr/local/lib/python3.10/dist-packages (from optree->keras) (4.12.2)\n",
            "Requirement already satisfied: markdown-it-py>=2.2.0 in /usr/local/lib/python3.10/dist-packages (from rich->keras) (3.0.0)\n",
            "Requirement already satisfied: pygments<3.0.0,>=2.13.0 in /usr/local/lib/python3.10/dist-packages (from rich->keras) (2.18.0)\n",
            "Requirement already satisfied: mdurl~=0.1 in /usr/local/lib/python3.10/dist-packages (from markdown-it-py>=2.2.0->rich->keras) (0.1.2)\n"
          ]
        }
      ]
    },
    {
      "cell_type": "code",
      "source": [
        "# Nämä importattiin simple audio mallissa.\n",
        "import os\n",
        "import pathlib\n",
        "\n",
        "import matplotlib.pyplot as plt\n",
        "import numpy as np\n",
        "import seaborn as sns\n",
        "import tensorflow as tf\n",
        "\n",
        "from keras import layers\n",
        "from keras import models\n",
        "from IPython import display\n",
        "\n"
      ],
      "metadata": {
        "id": "6vDG3KG50i6v"
      },
      "execution_count": 10,
      "outputs": []
    },
    {
      "cell_type": "code",
      "source": [
        "import sys\n",
        "\n",
        "import numpy as np\n",
        "from keras import Model\n",
        "from keras import Layer\n",
        "\n",
        "def import_model(filepath: str) -> Model:\n",
        "    \"\"\"Load model from file\"\"\"\n",
        "    model: Model = models.load_model(filepath)\n",
        "    return model\n",
        "\n",
        "model = import_model('model_export.keras')\n",
        "print(model.summary())\n",
        "\n"
      ],
      "metadata": {
        "colab": {
          "base_uri": "https://localhost:8080/",
          "height": 482
        },
        "id": "xMIvtPLYqxK5",
        "outputId": "12a37fc9-7ec7-44dd-a3c4-e2703339ab5c"
      },
      "execution_count": 11,
      "outputs": [
        {
          "output_type": "display_data",
          "data": {
            "text/plain": [
              "\u001b[1mModel: \"sequential_2\"\u001b[0m\n"
            ],
            "text/html": [
              "<pre style=\"white-space:pre;overflow-x:auto;line-height:normal;font-family:Menlo,'DejaVu Sans Mono',consolas,'Courier New',monospace\"><span style=\"font-weight: bold\">Model: \"sequential_2\"</span>\n",
              "</pre>\n"
            ]
          },
          "metadata": {}
        },
        {
          "output_type": "display_data",
          "data": {
            "text/plain": [
              "┏━━━━━━━━━━━━━━━━━━━━━━━━━━━━━━━━━━━━━━┳━━━━━━━━━━━━━━━━━━━━━━━━━━━━━┳━━━━━━━━━━━━━━━━━┓\n",
              "┃\u001b[1m \u001b[0m\u001b[1mLayer (type)                        \u001b[0m\u001b[1m \u001b[0m┃\u001b[1m \u001b[0m\u001b[1mOutput Shape               \u001b[0m\u001b[1m \u001b[0m┃\u001b[1m \u001b[0m\u001b[1m        Param #\u001b[0m\u001b[1m \u001b[0m┃\n",
              "┡━━━━━━━━━━━━━━━━━━━━━━━━━━━━━━━━━━━━━━╇━━━━━━━━━━━━━━━━━━━━━━━━━━━━━╇━━━━━━━━━━━━━━━━━┩\n",
              "│ resizing_2 (\u001b[38;5;33mResizing\u001b[0m)                │ (\u001b[38;5;45mNone\u001b[0m, \u001b[38;5;34m32\u001b[0m, \u001b[38;5;34m32\u001b[0m, \u001b[38;5;34m1\u001b[0m)           │               \u001b[38;5;34m0\u001b[0m │\n",
              "├──────────────────────────────────────┼─────────────────────────────┼─────────────────┤\n",
              "│ normalization_2 (\u001b[38;5;33mNormalization\u001b[0m)      │ (\u001b[38;5;45mNone\u001b[0m, \u001b[38;5;34m32\u001b[0m, \u001b[38;5;34m32\u001b[0m, \u001b[38;5;34m1\u001b[0m)           │               \u001b[38;5;34m3\u001b[0m │\n",
              "├──────────────────────────────────────┼─────────────────────────────┼─────────────────┤\n",
              "│ conv2d_4 (\u001b[38;5;33mConv2D\u001b[0m)                    │ (\u001b[38;5;45mNone\u001b[0m, \u001b[38;5;34m30\u001b[0m, \u001b[38;5;34m30\u001b[0m, \u001b[38;5;34m32\u001b[0m)          │             \u001b[38;5;34m320\u001b[0m │\n",
              "├──────────────────────────────────────┼─────────────────────────────┼─────────────────┤\n",
              "│ conv2d_5 (\u001b[38;5;33mConv2D\u001b[0m)                    │ (\u001b[38;5;45mNone\u001b[0m, \u001b[38;5;34m28\u001b[0m, \u001b[38;5;34m28\u001b[0m, \u001b[38;5;34m64\u001b[0m)          │          \u001b[38;5;34m18,496\u001b[0m │\n",
              "├──────────────────────────────────────┼─────────────────────────────┼─────────────────┤\n",
              "│ max_pooling2d_2 (\u001b[38;5;33mMaxPooling2D\u001b[0m)       │ (\u001b[38;5;45mNone\u001b[0m, \u001b[38;5;34m14\u001b[0m, \u001b[38;5;34m14\u001b[0m, \u001b[38;5;34m64\u001b[0m)          │               \u001b[38;5;34m0\u001b[0m │\n",
              "├──────────────────────────────────────┼─────────────────────────────┼─────────────────┤\n",
              "│ dropout_4 (\u001b[38;5;33mDropout\u001b[0m)                  │ (\u001b[38;5;45mNone\u001b[0m, \u001b[38;5;34m14\u001b[0m, \u001b[38;5;34m14\u001b[0m, \u001b[38;5;34m64\u001b[0m)          │               \u001b[38;5;34m0\u001b[0m │\n",
              "├──────────────────────────────────────┼─────────────────────────────┼─────────────────┤\n",
              "│ flatten_2 (\u001b[38;5;33mFlatten\u001b[0m)                  │ (\u001b[38;5;45mNone\u001b[0m, \u001b[38;5;34m12544\u001b[0m)               │               \u001b[38;5;34m0\u001b[0m │\n",
              "├──────────────────────────────────────┼─────────────────────────────┼─────────────────┤\n",
              "│ dense_4 (\u001b[38;5;33mDense\u001b[0m)                      │ (\u001b[38;5;45mNone\u001b[0m, \u001b[38;5;34m128\u001b[0m)                 │       \u001b[38;5;34m1,605,760\u001b[0m │\n",
              "├──────────────────────────────────────┼─────────────────────────────┼─────────────────┤\n",
              "│ dropout_5 (\u001b[38;5;33mDropout\u001b[0m)                  │ (\u001b[38;5;45mNone\u001b[0m, \u001b[38;5;34m128\u001b[0m)                 │               \u001b[38;5;34m0\u001b[0m │\n",
              "├──────────────────────────────────────┼─────────────────────────────┼─────────────────┤\n",
              "│ dense_5 (\u001b[38;5;33mDense\u001b[0m)                      │ (\u001b[38;5;45mNone\u001b[0m, \u001b[38;5;34m8\u001b[0m)                   │           \u001b[38;5;34m1,032\u001b[0m │\n",
              "└──────────────────────────────────────┴─────────────────────────────┴─────────────────┘\n"
            ],
            "text/html": [
              "<pre style=\"white-space:pre;overflow-x:auto;line-height:normal;font-family:Menlo,'DejaVu Sans Mono',consolas,'Courier New',monospace\">┏━━━━━━━━━━━━━━━━━━━━━━━━━━━━━━━━━━━━━━┳━━━━━━━━━━━━━━━━━━━━━━━━━━━━━┳━━━━━━━━━━━━━━━━━┓\n",
              "┃<span style=\"font-weight: bold\"> Layer (type)                         </span>┃<span style=\"font-weight: bold\"> Output Shape                </span>┃<span style=\"font-weight: bold\">         Param # </span>┃\n",
              "┡━━━━━━━━━━━━━━━━━━━━━━━━━━━━━━━━━━━━━━╇━━━━━━━━━━━━━━━━━━━━━━━━━━━━━╇━━━━━━━━━━━━━━━━━┩\n",
              "│ resizing_2 (<span style=\"color: #0087ff; text-decoration-color: #0087ff\">Resizing</span>)                │ (<span style=\"color: #00d7ff; text-decoration-color: #00d7ff\">None</span>, <span style=\"color: #00af00; text-decoration-color: #00af00\">32</span>, <span style=\"color: #00af00; text-decoration-color: #00af00\">32</span>, <span style=\"color: #00af00; text-decoration-color: #00af00\">1</span>)           │               <span style=\"color: #00af00; text-decoration-color: #00af00\">0</span> │\n",
              "├──────────────────────────────────────┼─────────────────────────────┼─────────────────┤\n",
              "│ normalization_2 (<span style=\"color: #0087ff; text-decoration-color: #0087ff\">Normalization</span>)      │ (<span style=\"color: #00d7ff; text-decoration-color: #00d7ff\">None</span>, <span style=\"color: #00af00; text-decoration-color: #00af00\">32</span>, <span style=\"color: #00af00; text-decoration-color: #00af00\">32</span>, <span style=\"color: #00af00; text-decoration-color: #00af00\">1</span>)           │               <span style=\"color: #00af00; text-decoration-color: #00af00\">3</span> │\n",
              "├──────────────────────────────────────┼─────────────────────────────┼─────────────────┤\n",
              "│ conv2d_4 (<span style=\"color: #0087ff; text-decoration-color: #0087ff\">Conv2D</span>)                    │ (<span style=\"color: #00d7ff; text-decoration-color: #00d7ff\">None</span>, <span style=\"color: #00af00; text-decoration-color: #00af00\">30</span>, <span style=\"color: #00af00; text-decoration-color: #00af00\">30</span>, <span style=\"color: #00af00; text-decoration-color: #00af00\">32</span>)          │             <span style=\"color: #00af00; text-decoration-color: #00af00\">320</span> │\n",
              "├──────────────────────────────────────┼─────────────────────────────┼─────────────────┤\n",
              "│ conv2d_5 (<span style=\"color: #0087ff; text-decoration-color: #0087ff\">Conv2D</span>)                    │ (<span style=\"color: #00d7ff; text-decoration-color: #00d7ff\">None</span>, <span style=\"color: #00af00; text-decoration-color: #00af00\">28</span>, <span style=\"color: #00af00; text-decoration-color: #00af00\">28</span>, <span style=\"color: #00af00; text-decoration-color: #00af00\">64</span>)          │          <span style=\"color: #00af00; text-decoration-color: #00af00\">18,496</span> │\n",
              "├──────────────────────────────────────┼─────────────────────────────┼─────────────────┤\n",
              "│ max_pooling2d_2 (<span style=\"color: #0087ff; text-decoration-color: #0087ff\">MaxPooling2D</span>)       │ (<span style=\"color: #00d7ff; text-decoration-color: #00d7ff\">None</span>, <span style=\"color: #00af00; text-decoration-color: #00af00\">14</span>, <span style=\"color: #00af00; text-decoration-color: #00af00\">14</span>, <span style=\"color: #00af00; text-decoration-color: #00af00\">64</span>)          │               <span style=\"color: #00af00; text-decoration-color: #00af00\">0</span> │\n",
              "├──────────────────────────────────────┼─────────────────────────────┼─────────────────┤\n",
              "│ dropout_4 (<span style=\"color: #0087ff; text-decoration-color: #0087ff\">Dropout</span>)                  │ (<span style=\"color: #00d7ff; text-decoration-color: #00d7ff\">None</span>, <span style=\"color: #00af00; text-decoration-color: #00af00\">14</span>, <span style=\"color: #00af00; text-decoration-color: #00af00\">14</span>, <span style=\"color: #00af00; text-decoration-color: #00af00\">64</span>)          │               <span style=\"color: #00af00; text-decoration-color: #00af00\">0</span> │\n",
              "├──────────────────────────────────────┼─────────────────────────────┼─────────────────┤\n",
              "│ flatten_2 (<span style=\"color: #0087ff; text-decoration-color: #0087ff\">Flatten</span>)                  │ (<span style=\"color: #00d7ff; text-decoration-color: #00d7ff\">None</span>, <span style=\"color: #00af00; text-decoration-color: #00af00\">12544</span>)               │               <span style=\"color: #00af00; text-decoration-color: #00af00\">0</span> │\n",
              "├──────────────────────────────────────┼─────────────────────────────┼─────────────────┤\n",
              "│ dense_4 (<span style=\"color: #0087ff; text-decoration-color: #0087ff\">Dense</span>)                      │ (<span style=\"color: #00d7ff; text-decoration-color: #00d7ff\">None</span>, <span style=\"color: #00af00; text-decoration-color: #00af00\">128</span>)                 │       <span style=\"color: #00af00; text-decoration-color: #00af00\">1,605,760</span> │\n",
              "├──────────────────────────────────────┼─────────────────────────────┼─────────────────┤\n",
              "│ dropout_5 (<span style=\"color: #0087ff; text-decoration-color: #0087ff\">Dropout</span>)                  │ (<span style=\"color: #00d7ff; text-decoration-color: #00d7ff\">None</span>, <span style=\"color: #00af00; text-decoration-color: #00af00\">128</span>)                 │               <span style=\"color: #00af00; text-decoration-color: #00af00\">0</span> │\n",
              "├──────────────────────────────────────┼─────────────────────────────┼─────────────────┤\n",
              "│ dense_5 (<span style=\"color: #0087ff; text-decoration-color: #0087ff\">Dense</span>)                      │ (<span style=\"color: #00d7ff; text-decoration-color: #00d7ff\">None</span>, <span style=\"color: #00af00; text-decoration-color: #00af00\">8</span>)                   │           <span style=\"color: #00af00; text-decoration-color: #00af00\">1,032</span> │\n",
              "└──────────────────────────────────────┴─────────────────────────────┴─────────────────┘\n",
              "</pre>\n"
            ]
          },
          "metadata": {}
        },
        {
          "output_type": "display_data",
          "data": {
            "text/plain": [
              "\u001b[1m Total params: \u001b[0m\u001b[38;5;34m4,876,829\u001b[0m (18.60 MB)\n"
            ],
            "text/html": [
              "<pre style=\"white-space:pre;overflow-x:auto;line-height:normal;font-family:Menlo,'DejaVu Sans Mono',consolas,'Courier New',monospace\"><span style=\"font-weight: bold\"> Total params: </span><span style=\"color: #00af00; text-decoration-color: #00af00\">4,876,829</span> (18.60 MB)\n",
              "</pre>\n"
            ]
          },
          "metadata": {}
        },
        {
          "output_type": "display_data",
          "data": {
            "text/plain": [
              "\u001b[1m Trainable params: \u001b[0m\u001b[38;5;34m1,625,608\u001b[0m (6.20 MB)\n"
            ],
            "text/html": [
              "<pre style=\"white-space:pre;overflow-x:auto;line-height:normal;font-family:Menlo,'DejaVu Sans Mono',consolas,'Courier New',monospace\"><span style=\"font-weight: bold\"> Trainable params: </span><span style=\"color: #00af00; text-decoration-color: #00af00\">1,625,608</span> (6.20 MB)\n",
              "</pre>\n"
            ]
          },
          "metadata": {}
        },
        {
          "output_type": "display_data",
          "data": {
            "text/plain": [
              "\u001b[1m Non-trainable params: \u001b[0m\u001b[38;5;34m3\u001b[0m (16.00 B)\n"
            ],
            "text/html": [
              "<pre style=\"white-space:pre;overflow-x:auto;line-height:normal;font-family:Menlo,'DejaVu Sans Mono',consolas,'Courier New',monospace\"><span style=\"font-weight: bold\"> Non-trainable params: </span><span style=\"color: #00af00; text-decoration-color: #00af00\">3</span> (16.00 B)\n",
              "</pre>\n"
            ]
          },
          "metadata": {}
        },
        {
          "output_type": "display_data",
          "data": {
            "text/plain": [
              "\u001b[1m Optimizer params: \u001b[0m\u001b[38;5;34m3,251,218\u001b[0m (12.40 MB)\n"
            ],
            "text/html": [
              "<pre style=\"white-space:pre;overflow-x:auto;line-height:normal;font-family:Menlo,'DejaVu Sans Mono',consolas,'Courier New',monospace\"><span style=\"font-weight: bold\"> Optimizer params: </span><span style=\"color: #00af00; text-decoration-color: #00af00\">3,251,218</span> (12.40 MB)\n",
              "</pre>\n"
            ]
          },
          "metadata": {}
        },
        {
          "output_type": "stream",
          "name": "stdout",
          "text": [
            "None\n"
          ]
        }
      ]
    },
    {
      "cell_type": "code",
      "source": [
        "def get_layer_weights(layer: str, model: Model) -> list[np.ndarray]:\n",
        "    \"\"\"Get layer weights from given model\"\"\"\n",
        "    return model.get_layer(layer).get_weights()\n",
        "\n",
        "\n",
        "def get_weights_shape(layer: list[np.ndarray]):\n",
        "    tmp = []\n",
        "    for i in layer:\n",
        "        tmp.append(i.shape)\n",
        "    return tmp\n",
        "\n",
        "\n",
        "\n",
        "class DummyLayer(Layer):\n",
        "    def __init__(self):\n",
        "        super(DummyLayer, self).__init__()\n",
        "\n",
        "    def call(self, inputs):\n",
        "        return inputs\n",
        "\n",
        "def get_reference_layer(layer: str, model: Model):\n",
        "    \"\"\"Split the model in to three parts start, layer and rest.\n",
        "\n",
        "    Example:\n",
        "    ```python\n",
        "    model = import_model(\"../model/test_model.keras\")\n",
        "    (start, layer, end) = get_reference_layer(\"dense\", model)\n",
        "\n",
        "    result = start(waveform)\n",
        "    layer_result = layer(result)\n",
        "    print(layer_result)\n",
        "    ```\n",
        "    \"\"\"\n",
        "    modelStart = models.Sequential()\n",
        "    selectedLayer: Layer\n",
        "    modelEnd = models.Sequential()\n",
        "\n",
        "    start = True\n",
        "    l: Layer\n",
        "    for l in model.layers:\n",
        "        if l.name == layer:\n",
        "            start = False\n",
        "            selectedLayer = l\n",
        "            continue\n",
        "        if start:\n",
        "            modelStart.add(l)\n",
        "        else:\n",
        "            modelEnd.add(l)\n",
        "\n",
        "    if not len(modelStart.layers):\n",
        "        modelStart.add(DummyLayer())\n",
        "    if not len(modelEnd.layers):\n",
        "        modelEnd.add(DummyLayer())\n",
        "\n",
        "    modelStart.build(model.input_shape)\n",
        "    modelEnd.build(selectedLayer.output.shape)\n",
        "    return (modelStart, selectedLayer, modelEnd)\n",
        "\n",
        "\n",
        "\n"
      ],
      "metadata": {
        "id": "VwO54FcMW-12"
      },
      "execution_count": 12,
      "outputs": []
    },
    {
      "cell_type": "code",
      "source": [
        "DATASET_PATH = 'data/mini_speech_commands'\n",
        "\n",
        "data_dir = pathlib.Path(DATASET_PATH)\n",
        "if not data_dir.exists():\n",
        "  tf.keras.utils.get_file(\n",
        "      'mini_speech_commands.zip',\n",
        "      origin=\"http://storage.googleapis.com/download.tensorflow.org/data/mini_speech_commands.zip\",\n",
        "      extract=True,\n",
        "      cache_dir='.', cache_subdir='data')"
      ],
      "metadata": {
        "id": "rERnpFPJb_Lg"
      },
      "execution_count": 13,
      "outputs": []
    },
    {
      "cell_type": "code",
      "source": [
        "def get_spectrogram(waveform):\n",
        "  # Convert the waveform to a spectrogram via a STFT.\n",
        "  spectrogram = tf.signal.stft(\n",
        "      waveform, frame_length=255, frame_step=128)\n",
        "  # Obtain the magnitude of the STFT.\n",
        "  spectrogram = tf.abs(spectrogram)\n",
        "  # Add a `channels` dimension, so that the spectrogram can be used\n",
        "  # as image-like input data with convolution layers (which expect\n",
        "  # shape (`batch_size`, `height`, `width`, `channels`).\n",
        "  spectrogram = spectrogram[..., tf.newaxis]\n",
        "  return spectrogram\n",
        "\n"
      ],
      "metadata": {
        "id": "LlWiqVMambgu"
      },
      "execution_count": 14,
      "outputs": []
    },
    {
      "cell_type": "code",
      "source": [
        "#x = data_dir/'no/01bb6a2a_nohash_0.wav'\n",
        "x = data_dir/'right/0d2bcf9d_nohash_2.wav'\n",
        "x = tf.io.read_file(str(x))\n",
        "x, sample_rate = tf.audio.decode_wav(x, desired_channels=1, desired_samples=16000,)\n",
        "x = tf.squeeze(x, axis=-1)\n",
        "waveform = x\n",
        "x = get_spectrogram(x)\n",
        "x = x[tf.newaxis,...]\n",
        "\n",
        "prediction = model(x)\n",
        "#x_labels = ['no', 'yes', 'down', 'go', 'left', 'up', 'right', 'stop']\n",
        "#x_labels = [label_names]\n",
        "x_labels = ['down', 'go', 'left', 'no', 'right', 'stop', 'up', 'yes']\n",
        "plt.bar(x_labels, tf.nn.softmax(prediction[0]))\n",
        "plt.title('No')\n",
        "plt.show()\n",
        "\n",
        "display.display(display.Audio(waveform, rate=16000))"
      ],
      "metadata": {
        "id": "N6wuJ78WYGDE",
        "colab": {
          "base_uri": "https://localhost:8080/",
          "height": 510
        },
        "outputId": "78cf241b-6279-46e5-a277-64808bce4406"
      },
      "execution_count": 15,
      "outputs": [
        {
          "output_type": "display_data",
          "data": {
            "text/plain": [
              "<Figure size 640x480 with 1 Axes>"
            ],
            "image/png": "[encoded data removed]"
          },
          "metadata": {}
        },
        {
          "output_type": "display_data",
          "data": {
            "text/plain": [
              "<IPython.lib.display.Audio object>"
            ],
            "text/html": [
              "\n",
              "                <audio  controls=\"controls\" >\n",
              "                    <source src=\"data:audio/wav;base64,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\" type=\"audio/wav\" />\n",
              "                    Your browser does not support the audio element.\n",
              "                </audio>\n",
              "              "
            ]
          },
          "metadata": {}
        }
      ]
    },
    {
      "cell_type": "code",
      "source": [
        "print(input.shape[3])"
      ],
      "metadata": {
        "colab": {
          "base_uri": "https://localhost:8080/"
        },
        "id": "m9LrUb3hdrTO",
        "outputId": "b210a5a4-d8d4-46c0-f4c0-2926eb9e2df6"
      },
      "execution_count": 63,
      "outputs": [
        {
          "output_type": "stream",
          "name": "stdout",
          "text": [
            "32\n"
          ]
        }
      ]
    },
    {
      "cell_type": "code",
      "source": [
        "def conv2d_2(input):\n",
        "  kuvat = input.shape[3]\n",
        "  #output = np.zeros(input.shape[0])\n",
        "  kuvat_h = input.shape[1]\n",
        "  kuvat_w = input.shape[2]\n",
        "\n",
        "\n",
        "\n",
        "  for x in range(input.shape[3] * 2):\n",
        "    filter[x] = np.zeros([[1, 0, -1],\n",
        "                          [2, 0, -2],\n",
        "                          [1, 0, -1]])\n",
        "\n",
        "  print(kuvat)\n",
        "\n",
        "  for r in range(kuvat):\n",
        "    for j in range(kuvat_h):\n",
        "      for i in range(kuvat_w):\n",
        "        #patch = kuvat[r][i:i+3, j:j+3]\n",
        "        patch = input[0, i:i+3, j:j+3, r]\n",
        "        output[r][i, j] = np.sum(patch * filter)\n",
        "\n",
        "  print(filter)\n",
        "  print(output)\n",
        "\n",
        "  Tulos = output\n",
        "\n",
        "  print(Tulos)\n",
        "  return Tulos\n",
        "\n",
        "conv2d_2(input)\n"
      ],
      "metadata": {
        "colab": {
          "base_uri": "https://localhost:8080/",
          "height": 297
        },
        "id": "OFUGin2K6wXZ",
        "outputId": "29685990-a3b7-4f62-9430-15a08ef4c5ed"
      },
      "execution_count": 66,
      "outputs": [
        {
          "output_type": "error",
          "ename": "TypeError",
          "evalue": "'list' object cannot be interpreted as an integer",
          "traceback": [
            "\u001b[0;31m---------------------------------------------------------------------------\u001b[0m",
            "\u001b[0;31mTypeError\u001b[0m                                 Traceback (most recent call last)",
            "\u001b[0;32m<ipython-input-66-1740f523a698>\u001b[0m in \u001b[0;36m<cell line: 31>\u001b[0;34m()\u001b[0m\n\u001b[1;32m     29\u001b[0m   \u001b[0;32mreturn\u001b[0m \u001b[0mTulos\u001b[0m\u001b[0;34m\u001b[0m\u001b[0;34m\u001b[0m\u001b[0m\n\u001b[1;32m     30\u001b[0m \u001b[0;34m\u001b[0m\u001b[0m\n\u001b[0;32m---> 31\u001b[0;31m \u001b[0mconv2d_2\u001b[0m\u001b[0;34m(\u001b[0m\u001b[0minput\u001b[0m\u001b[0;34m)\u001b[0m\u001b[0;34m\u001b[0m\u001b[0;34m\u001b[0m\u001b[0m\n\u001b[0m",
            "\u001b[0;32m<ipython-input-66-1740f523a698>\u001b[0m in \u001b[0;36mconv2d_2\u001b[0;34m(input)\u001b[0m\n\u001b[1;32m      8\u001b[0m \u001b[0;34m\u001b[0m\u001b[0m\n\u001b[1;32m      9\u001b[0m   \u001b[0;32mfor\u001b[0m \u001b[0mx\u001b[0m \u001b[0;32min\u001b[0m \u001b[0mrange\u001b[0m\u001b[0;34m(\u001b[0m\u001b[0minput\u001b[0m\u001b[0;34m.\u001b[0m\u001b[0mshape\u001b[0m\u001b[0;34m[\u001b[0m\u001b[0;36m3\u001b[0m\u001b[0;34m]\u001b[0m \u001b[0;34m*\u001b[0m \u001b[0;36m2\u001b[0m\u001b[0;34m)\u001b[0m\u001b[0;34m:\u001b[0m\u001b[0;34m\u001b[0m\u001b[0;34m\u001b[0m\u001b[0m\n\u001b[0;32m---> 10\u001b[0;31m     filter[x] = np.zeros([[1, 0, -1],\n\u001b[0m\u001b[1;32m     11\u001b[0m                           \u001b[0;34m[\u001b[0m\u001b[0;36m2\u001b[0m\u001b[0;34m,\u001b[0m \u001b[0;36m0\u001b[0m\u001b[0;34m,\u001b[0m \u001b[0;34m-\u001b[0m\u001b[0;36m2\u001b[0m\u001b[0;34m]\u001b[0m\u001b[0;34m,\u001b[0m\u001b[0;34m\u001b[0m\u001b[0;34m\u001b[0m\u001b[0m\n\u001b[1;32m     12\u001b[0m                           [1, 0, -1]])\n",
            "\u001b[0;31mTypeError\u001b[0m: 'list' object cannot be interpreted as an integer"
          ]
        }
      ]
    },
    {
      "cell_type": "code",
      "source": [
        "'''def ReLU(x):\n",
        "    return (x>0)*x\n",
        "\n",
        "print(ReLU(-56))'''\n",
        "\n",
        "\n",
        "def maxPooling(input, pool_size=(2,2), strides=(2,2)):\n",
        "    output_height = int((input.shape[1] - pool_size[0]) / strides[0]) + 1\n",
        "    output_width = int((input.shape[2] - pool_size[1]) / strides[1]) + 1\n",
        "    output = np.zeros((input.shape[0], output_height, output_width, input.shape[3]))\n",
        "\n",
        "    '''testArray = np.array([[2, 2, 7, 3],\n",
        "    [9, 4, 6, 1],\n",
        "    [8, 5, 2, 4],\n",
        "    [3, 1, 2, 6]])'''\n",
        "\n",
        "    for i in range(output_height):\n",
        "        for j in range(output_width):\n",
        "            h_start = i * strides[0]\n",
        "            h_end = h_start + pool_size[0]\n",
        "            w_start = j * strides[1]\n",
        "            w_end = w_start + pool_size[1]\n",
        "            output[:, i, j, :] = np.max(input[:, h_start:h_end, w_start:w_end, :], axis=(1, 2))\n",
        "            #output[:, i, j, :] = np.max(testArray[h_start:h_end, w_start:w_end], axis=(1, 2))\n",
        "\n",
        "    return output\n",
        "\n"
      ],
      "metadata": {
        "id": "YMT4A_JktTVE"
      },
      "execution_count": 17,
      "outputs": []
    },
    {
      "cell_type": "code",
      "source": [
        "\n",
        "\n",
        "def dense1(input, weights, biases):\n",
        "    input = input.numpy()\n",
        "    num_outputs = biases.shape[0]\n",
        "    tulos = np.zeros(num_outputs)\n",
        "    for n in range(num_outputs):\n",
        "        for w in range(weights.shape[0]):\n",
        "            tulos[n] += input[0, w] * weights[w, n]\n",
        "        tulos[n] += biases[n]\n",
        "    print(tulos)\n",
        "    (tulos > 0) * tulos #Toimii ReLUna eli muuttaa negatiiviset nolliksi\n",
        "    return tulos"
      ],
      "metadata": {
        "id": "x5BW2sAPSN2J"
      },
      "execution_count": 18,
      "outputs": []
    },
    {
      "cell_type": "code",
      "source": [
        "\n",
        "\n",
        "def omaDense2(input, weights, biases):\n",
        "    input = input.numpy()\n",
        "    num_outputs = biases.shape[0]\n",
        "    tulos = np.zeros(num_outputs)\n",
        "    for n in range(num_outputs):\n",
        "        for w in range(weights.shape[0]):\n",
        "            tulos[n] += input[0, w] * weights[w, n]\n",
        "        tulos[n] += biases[n]\n",
        "    print(input, weights, biases)\n",
        "    print(tulos)\n",
        "    return tulos\n",
        "\n",
        "\n",
        "\n"
      ],
      "metadata": {
        "id": "a62g_3CNfCQL"
      },
      "execution_count": 19,
      "outputs": []
    },
    {
      "cell_type": "code",
      "source": [],
      "metadata": {
        "id": "qV32BfkRLEeC"
      },
      "execution_count": 19,
      "outputs": []
    },
    {
      "cell_type": "code",
      "source": [
        "(start, layer, end) = get_reference_layer(\"conv2d_5\", model)\n",
        "\n",
        "\n",
        "result = start(x)\n",
        "\n",
        "layer_result = layer(result)\n",
        "input = result\n",
        "\n",
        "#oma_result = conv2d_2()\n",
        "#print(result.shape)\n",
        "\n",
        "print(layer_result.shape)\n",
        "\n",
        "#print(\"mallin tulos: \", layer_result)\n",
        "\n",
        "\n",
        "print(\"Oma tulos: \", oma_result)\n",
        "#print(oma_result.shape)\n"
      ],
      "metadata": {
        "colab": {
          "base_uri": "https://localhost:8080/"
        },
        "id": "V6QI3zzDLEMa",
        "outputId": "67ec6b95-1eec-48e8-f374-1193e01e8dfb"
      },
      "execution_count": 38,
      "outputs": [
        {
          "output_type": "stream",
          "name": "stdout",
          "text": [
            "(1, 28, 28, 64)\n",
            "Oma tulos:  tf.Tensor([[0. 0. 0. ... 0. 0. 0.]], shape=(1, 12544), dtype=float32)\n"
          ]
        }
      ]
    },
    {
      "cell_type": "code",
      "source": [
        "(start, layer, end) = get_reference_layer(\"max_pooling2d_2\", model)\n",
        "\n",
        "\n",
        "result = start(x)\n",
        "\n",
        "layer_result = layer(result)\n",
        "input = result\n",
        "\n",
        "oma_result = maxPooling(input)\n",
        "print(result.shape)\n",
        "\n",
        "print(\"mallin tulos: \", layer_result)\n",
        "\n",
        "\n",
        "print(\"Oma tulos: \", oma_result)\n",
        "print(oma_result.shape)\n",
        "\n"
      ],
      "metadata": {
        "colab": {
          "base_uri": "https://localhost:8080/"
        },
        "id": "Ajxibqist3ci",
        "outputId": "66c6d306-c284-4089-8905-e907ec585ef1"
      },
      "execution_count": 21,
      "outputs": [
        {
          "output_type": "stream",
          "name": "stdout",
          "text": [
            "(1, 28, 28, 64)\n",
            "mallin tulos:  tf.Tensor(\n",
            "[[[[0.0000000e+00 0.0000000e+00 0.0000000e+00 ... 1.3321314e+00\n",
            "    2.1064470e+00 0.0000000e+00]\n",
            "   [0.0000000e+00 0.0000000e+00 0.0000000e+00 ... 0.0000000e+00\n",
            "    7.1801329e-01 0.0000000e+00]\n",
            "   [0.0000000e+00 0.0000000e+00 0.0000000e+00 ... 4.7994113e-01\n",
            "    8.1900615e-01 0.0000000e+00]\n",
            "   ...\n",
            "   [5.1929280e-03 0.0000000e+00 0.0000000e+00 ... 2.1430463e-02\n",
            "    7.0275784e-02 0.0000000e+00]\n",
            "   [0.0000000e+00 0.0000000e+00 0.0000000e+00 ... 0.0000000e+00\n",
            "    0.0000000e+00 0.0000000e+00]\n",
            "   [0.0000000e+00 0.0000000e+00 0.0000000e+00 ... 0.0000000e+00\n",
            "    0.0000000e+00 0.0000000e+00]]\n",
            "\n",
            "  [[0.0000000e+00 0.0000000e+00 0.0000000e+00 ... 2.3766553e+00\n",
            "    0.0000000e+00 7.8163594e-01]\n",
            "   [0.0000000e+00 0.0000000e+00 0.0000000e+00 ... 6.0733491e-01\n",
            "    0.0000000e+00 3.4816012e-01]\n",
            "   [0.0000000e+00 0.0000000e+00 6.1479405e-02 ... 1.5579027e+00\n",
            "    1.3469555e+00 0.0000000e+00]\n",
            "   ...\n",
            "   [9.6718326e-02 7.7342391e-02 0.0000000e+00 ... 1.2932536e-01\n",
            "    1.3019828e-01 0.0000000e+00]\n",
            "   [0.0000000e+00 0.0000000e+00 0.0000000e+00 ... 0.0000000e+00\n",
            "    0.0000000e+00 0.0000000e+00]\n",
            "   [0.0000000e+00 0.0000000e+00 0.0000000e+00 ... 0.0000000e+00\n",
            "    1.3262741e-03 0.0000000e+00]]\n",
            "\n",
            "  [[0.0000000e+00 0.0000000e+00 0.0000000e+00 ... 0.0000000e+00\n",
            "    0.0000000e+00 7.7714717e-01]\n",
            "   [0.0000000e+00 0.0000000e+00 9.3274468e-01 ... 0.0000000e+00\n",
            "    0.0000000e+00 9.7315717e-01]\n",
            "   [0.0000000e+00 9.6783347e-02 3.3271238e-01 ... 1.8120590e+00\n",
            "    3.7458298e-01 0.0000000e+00]\n",
            "   ...\n",
            "   [0.0000000e+00 3.5565987e-02 0.0000000e+00 ... 3.8288012e-03\n",
            "    0.0000000e+00 0.0000000e+00]\n",
            "   [0.0000000e+00 7.0502259e-02 0.0000000e+00 ... 2.2014454e-03\n",
            "    5.6548420e-02 0.0000000e+00]\n",
            "   [6.7443386e-02 7.4340343e-02 0.0000000e+00 ... 7.5924098e-03\n",
            "    6.9951087e-02 0.0000000e+00]]\n",
            "\n",
            "  ...\n",
            "\n",
            "  [[8.0302306e-02 0.0000000e+00 6.3718356e-02 ... 1.4303703e-02\n",
            "    0.0000000e+00 0.0000000e+00]\n",
            "   [0.0000000e+00 0.0000000e+00 0.0000000e+00 ... 0.0000000e+00\n",
            "    0.0000000e+00 0.0000000e+00]\n",
            "   [0.0000000e+00 0.0000000e+00 0.0000000e+00 ... 0.0000000e+00\n",
            "    0.0000000e+00 0.0000000e+00]\n",
            "   ...\n",
            "   [0.0000000e+00 0.0000000e+00 0.0000000e+00 ... 0.0000000e+00\n",
            "    0.0000000e+00 0.0000000e+00]\n",
            "   [0.0000000e+00 0.0000000e+00 0.0000000e+00 ... 0.0000000e+00\n",
            "    0.0000000e+00 0.0000000e+00]\n",
            "   [0.0000000e+00 0.0000000e+00 0.0000000e+00 ... 0.0000000e+00\n",
            "    0.0000000e+00 0.0000000e+00]]\n",
            "\n",
            "  [[3.0954733e-02 0.0000000e+00 5.3948462e-02 ... 0.0000000e+00\n",
            "    0.0000000e+00 0.0000000e+00]\n",
            "   [0.0000000e+00 0.0000000e+00 0.0000000e+00 ... 0.0000000e+00\n",
            "    0.0000000e+00 0.0000000e+00]\n",
            "   [0.0000000e+00 0.0000000e+00 0.0000000e+00 ... 0.0000000e+00\n",
            "    0.0000000e+00 0.0000000e+00]\n",
            "   ...\n",
            "   [0.0000000e+00 0.0000000e+00 0.0000000e+00 ... 0.0000000e+00\n",
            "    0.0000000e+00 0.0000000e+00]\n",
            "   [0.0000000e+00 0.0000000e+00 0.0000000e+00 ... 0.0000000e+00\n",
            "    0.0000000e+00 0.0000000e+00]\n",
            "   [0.0000000e+00 0.0000000e+00 0.0000000e+00 ... 0.0000000e+00\n",
            "    0.0000000e+00 0.0000000e+00]]\n",
            "\n",
            "  [[0.0000000e+00 0.0000000e+00 9.8286048e-03 ... 0.0000000e+00\n",
            "    0.0000000e+00 7.9212338e-03]\n",
            "   [0.0000000e+00 6.8083368e-03 0.0000000e+00 ... 0.0000000e+00\n",
            "    0.0000000e+00 0.0000000e+00]\n",
            "   [0.0000000e+00 0.0000000e+00 0.0000000e+00 ... 0.0000000e+00\n",
            "    0.0000000e+00 0.0000000e+00]\n",
            "   ...\n",
            "   [0.0000000e+00 2.7165487e-03 0.0000000e+00 ... 0.0000000e+00\n",
            "    0.0000000e+00 0.0000000e+00]\n",
            "   [0.0000000e+00 0.0000000e+00 0.0000000e+00 ... 0.0000000e+00\n",
            "    0.0000000e+00 0.0000000e+00]\n",
            "   [0.0000000e+00 0.0000000e+00 0.0000000e+00 ... 0.0000000e+00\n",
            "    0.0000000e+00 0.0000000e+00]]]], shape=(1, 14, 14, 64), dtype=float32)\n",
            "Oma tulos:  [[[[0.00000000e+00 0.00000000e+00 0.00000000e+00 ... 1.33213139e+00\n",
            "    2.10644698e+00 0.00000000e+00]\n",
            "   [0.00000000e+00 0.00000000e+00 0.00000000e+00 ... 0.00000000e+00\n",
            "    7.18013287e-01 0.00000000e+00]\n",
            "   [0.00000000e+00 0.00000000e+00 0.00000000e+00 ... 4.79941130e-01\n",
            "    8.19006145e-01 0.00000000e+00]\n",
            "   ...\n",
            "   [5.19292802e-03 0.00000000e+00 0.00000000e+00 ... 2.14304626e-02\n",
            "    7.02757835e-02 0.00000000e+00]\n",
            "   [0.00000000e+00 0.00000000e+00 0.00000000e+00 ... 0.00000000e+00\n",
            "    0.00000000e+00 0.00000000e+00]\n",
            "   [0.00000000e+00 0.00000000e+00 0.00000000e+00 ... 0.00000000e+00\n",
            "    0.00000000e+00 0.00000000e+00]]\n",
            "\n",
            "  [[0.00000000e+00 0.00000000e+00 0.00000000e+00 ... 2.37665534e+00\n",
            "    0.00000000e+00 7.81635940e-01]\n",
            "   [0.00000000e+00 0.00000000e+00 0.00000000e+00 ... 6.07334912e-01\n",
            "    0.00000000e+00 3.48160118e-01]\n",
            "   [0.00000000e+00 0.00000000e+00 6.14794046e-02 ... 1.55790269e+00\n",
            "    1.34695554e+00 0.00000000e+00]\n",
            "   ...\n",
            "   [9.67183262e-02 7.73423910e-02 0.00000000e+00 ... 1.29325360e-01\n",
            "    1.30198285e-01 0.00000000e+00]\n",
            "   [0.00000000e+00 0.00000000e+00 0.00000000e+00 ... 0.00000000e+00\n",
            "    0.00000000e+00 0.00000000e+00]\n",
            "   [0.00000000e+00 0.00000000e+00 0.00000000e+00 ... 0.00000000e+00\n",
            "    1.32627413e-03 0.00000000e+00]]\n",
            "\n",
            "  [[0.00000000e+00 0.00000000e+00 0.00000000e+00 ... 0.00000000e+00\n",
            "    0.00000000e+00 7.77147174e-01]\n",
            "   [0.00000000e+00 0.00000000e+00 9.32744682e-01 ... 0.00000000e+00\n",
            "    0.00000000e+00 9.73157167e-01]\n",
            "   [0.00000000e+00 9.67833474e-02 3.32712382e-01 ... 1.81205904e+00\n",
            "    3.74582976e-01 0.00000000e+00]\n",
            "   ...\n",
            "   [0.00000000e+00 3.55659872e-02 0.00000000e+00 ... 3.82880121e-03\n",
            "    0.00000000e+00 0.00000000e+00]\n",
            "   [0.00000000e+00 7.05022588e-02 0.00000000e+00 ... 2.20144540e-03\n",
            "    5.65484203e-02 0.00000000e+00]\n",
            "   [6.74433857e-02 7.43403435e-02 0.00000000e+00 ... 7.59240985e-03\n",
            "    6.99510872e-02 0.00000000e+00]]\n",
            "\n",
            "  ...\n",
            "\n",
            "  [[8.03023055e-02 0.00000000e+00 6.37183562e-02 ... 1.43037029e-02\n",
            "    0.00000000e+00 0.00000000e+00]\n",
            "   [0.00000000e+00 0.00000000e+00 0.00000000e+00 ... 0.00000000e+00\n",
            "    0.00000000e+00 0.00000000e+00]\n",
            "   [0.00000000e+00 0.00000000e+00 0.00000000e+00 ... 0.00000000e+00\n",
            "    0.00000000e+00 0.00000000e+00]\n",
            "   ...\n",
            "   [0.00000000e+00 0.00000000e+00 0.00000000e+00 ... 0.00000000e+00\n",
            "    0.00000000e+00 0.00000000e+00]\n",
            "   [0.00000000e+00 0.00000000e+00 0.00000000e+00 ... 0.00000000e+00\n",
            "    0.00000000e+00 0.00000000e+00]\n",
            "   [0.00000000e+00 0.00000000e+00 0.00000000e+00 ... 0.00000000e+00\n",
            "    0.00000000e+00 0.00000000e+00]]\n",
            "\n",
            "  [[3.09547335e-02 0.00000000e+00 5.39484620e-02 ... 0.00000000e+00\n",
            "    0.00000000e+00 0.00000000e+00]\n",
            "   [0.00000000e+00 0.00000000e+00 0.00000000e+00 ... 0.00000000e+00\n",
            "    0.00000000e+00 0.00000000e+00]\n",
            "   [0.00000000e+00 0.00000000e+00 0.00000000e+00 ... 0.00000000e+00\n",
            "    0.00000000e+00 0.00000000e+00]\n",
            "   ...\n",
            "   [0.00000000e+00 0.00000000e+00 0.00000000e+00 ... 0.00000000e+00\n",
            "    0.00000000e+00 0.00000000e+00]\n",
            "   [0.00000000e+00 0.00000000e+00 0.00000000e+00 ... 0.00000000e+00\n",
            "    0.00000000e+00 0.00000000e+00]\n",
            "   [0.00000000e+00 0.00000000e+00 0.00000000e+00 ... 0.00000000e+00\n",
            "    0.00000000e+00 0.00000000e+00]]\n",
            "\n",
            "  [[0.00000000e+00 0.00000000e+00 9.82860476e-03 ... 0.00000000e+00\n",
            "    0.00000000e+00 7.92123377e-03]\n",
            "   [0.00000000e+00 6.80833682e-03 0.00000000e+00 ... 0.00000000e+00\n",
            "    0.00000000e+00 0.00000000e+00]\n",
            "   [0.00000000e+00 0.00000000e+00 0.00000000e+00 ... 0.00000000e+00\n",
            "    0.00000000e+00 0.00000000e+00]\n",
            "   ...\n",
            "   [0.00000000e+00 2.71654874e-03 0.00000000e+00 ... 0.00000000e+00\n",
            "    0.00000000e+00 0.00000000e+00]\n",
            "   [0.00000000e+00 0.00000000e+00 0.00000000e+00 ... 0.00000000e+00\n",
            "    0.00000000e+00 0.00000000e+00]\n",
            "   [0.00000000e+00 0.00000000e+00 0.00000000e+00 ... 0.00000000e+00\n",
            "    0.00000000e+00 0.00000000e+00]]]]\n",
            "(1, 14, 14, 64)\n"
          ]
        }
      ]
    },
    {
      "cell_type": "code",
      "source": [
        "(start, layer, end) = get_reference_layer(\"flatten_2\", model)\n",
        "print(start)\n",
        "print(layer)\n",
        "print(end)\n",
        "\n",
        "result = start(x)\n",
        "\n",
        "layer_result = layer(result)\n",
        "input = result\n",
        "flatten = tf.reshape(result, (1, -1))\n",
        "oma_result = flatten\n",
        "print(result.shape)\n",
        "print(flatten.shape)\n",
        "print(\"Oma tulos: \", oma_result)\n",
        "print(\"Mallin tulos: \", layer_result)\n",
        "\n"
      ],
      "metadata": {
        "colab": {
          "base_uri": "https://localhost:8080/"
        },
        "id": "ZD0jFEbsdhd8",
        "outputId": "c0444802-d628-4776-9417-529b6f221d29"
      },
      "execution_count": 22,
      "outputs": [
        {
          "output_type": "stream",
          "name": "stdout",
          "text": [
            "<Sequential name=sequential_4, built=True>\n",
            "<Flatten name=flatten_2, built=True>\n",
            "<Sequential name=sequential_5, built=True>\n",
            "(1, 14, 14, 64)\n",
            "(1, 12544)\n",
            "Oma tulos:  tf.Tensor([[0. 0. 0. ... 0. 0. 0.]], shape=(1, 12544), dtype=float32)\n",
            "Mallin tulos:  tf.Tensor([[0. 0. 0. ... 0. 0. 0.]], shape=(1, 12544), dtype=float32)\n"
          ]
        }
      ]
    },
    {
      "cell_type": "code",
      "source": [
        "(start, layer, end) = get_reference_layer(\"dense_4\", model)\n",
        "print(start)\n",
        "print(layer)\n",
        "print(end)\n",
        "#print(get_layer_weights(\"dense_1\",model))\n",
        "print(get_weights_shape(get_layer_weights(\"dense_4\",model)))\n",
        "weights = get_layer_weights(\"dense_4\",model)\n",
        "\n",
        "\n",
        "\n",
        "# To use the model parts, call the part with the input data\n",
        "result = start(x)             # tämä antaa siis verkon oikean tuloksen ennen viimeistä dense_1\n",
        "                              # layeriä\n",
        "layer_result = layer(result)  # Ja tämä tuloksen dense_1:n jälkeen\n",
        "input = result                   # viimeiseen neuroverkon kerrokseen menevät 128 neuronia inputtina\n",
        "weights = weights[0]\n",
        "\n",
        "biases = weights[1]\n",
        "\n",
        "layer_oma_result = dense1(input, weights, biases) # Ensure the output of dense1 has the correct shape\n",
        "print(\"mallin tulos: \",layer_result)\n",
        "print(\"oma tulos = \",layer_oma_result)\n",
        "\n",
        "x_labels = ['down', 'go', 'left', 'no', 'right', 'stop', 'up', 'yes']\n",
        "plt.figure(1)\n",
        "plt.subplot(1,2,1)\n",
        "plt.bar(range(128), tf.nn.softmax(layer_result[0,:]))\n",
        "plt.subplot(1,2,2)\n",
        "plt.bar(range(128), tf.nn.softmax(layer_oma_result))\n",
        "\n",
        "plt.show()\n"
      ],
      "metadata": {
        "colab": {
          "base_uri": "https://localhost:8080/",
          "height": 1000
        },
        "id": "5RE65zw7AqGY",
        "outputId": "655166df-b852-4418-ed45-8bfcea9277d4"
      },
      "execution_count": 23,
      "outputs": [
        {
          "output_type": "stream",
          "name": "stdout",
          "text": [
            "<Sequential name=sequential_6, built=True>\n",
            "<Dense name=dense_4, built=True>\n",
            "<Sequential name=sequential_7, built=True>\n",
            "[(12544, 128), (128,)]\n",
            "[ -4.464466     3.11612581  -4.12864385  -2.42833846  -3.38923949\n",
            "  -4.66700496   4.98160319  -4.41898022  -2.01705354  -1.62536249\n",
            "  -4.21755552  -5.40541254  -3.06112406  -2.05826115  -1.56366957\n",
            "  -4.34522031   0.91362362  -8.54530721  -4.61495043  -0.04676339\n",
            "  -2.19421854   5.56948854  -1.46510991   1.32108834  -2.24775867\n",
            "   2.9316284   -1.06588516  -2.7970075   -1.56050547   2.36569449\n",
            "  -1.93976864  -2.7987358    1.91519318   0.56354527   3.45357644\n",
            "  -5.82298365  -2.66207373  -1.2274978    0.9447625    1.61446749\n",
            "  -2.61440391  -3.03759436   0.8898637   -2.14645242  -2.05774221\n",
            "  -2.17772793   6.06005166   4.34107172  -0.54353926  -2.77357891\n",
            "  -0.3621134   -0.21742086  -1.86297481  -2.39428872   9.63457546\n",
            "  -1.40320641  -2.27946718   1.39238806   6.96547617   2.77872823\n",
            "   0.94843152  -3.11046068   4.02175541   6.65439803  -6.88604951\n",
            "  -1.69275461  -6.0935909   -0.69231091   3.91236983  -3.09373416\n",
            "  -0.27911419  -2.3039909   -2.81400167   4.06340949  -2.17339028\n",
            "  -1.30736758   3.32474016   5.27903067  -3.54660912  -3.87657718\n",
            "  -2.34343208  -5.69387468   0.33724335  -2.64949387  -4.34841561\n",
            "  -0.84829054   2.33389143  -2.19731642  -3.41028961  -2.68840939\n",
            "   4.79759795  -3.40230578  -0.76094164  -2.53828464   2.06411782\n",
            "  -2.57977289  -2.57172518  -5.28717737  -3.44498743  -5.51924722\n",
            "  -5.78720151  -1.53225171  -2.54694073  -2.71738486   6.22435101\n",
            "  -4.82768592   3.06767042  -1.71967183  -4.15044818   4.0258875\n",
            "  -4.35920637   1.53339251  -6.11786355 -10.95162618  -2.54236502\n",
            "  -1.44345366   1.02340251  -2.65411291  -1.99734467  -2.157499\n",
            "  -2.13148477   1.99915278  -1.95893575  -2.81244409  -2.24253731\n",
            "   1.54263093  -0.02707095  -0.2477976 ]\n",
            "mallin tulos:  tf.Tensor(\n",
            "[[0.         3.1455073  0.         0.         0.         0.\n",
            "  5.013664   0.         0.         0.         0.         0.\n",
            "  0.         0.         0.         0.         0.88946193 0.\n",
            "  0.         0.         0.         5.578272   0.         1.3765475\n",
            "  0.         3.0548756  0.         0.         0.         2.4253066\n",
            "  0.         0.         1.9630541  0.6542006  3.466017   0.\n",
            "  0.         0.         0.99378455 1.6381449  0.         0.\n",
            "  0.9141189  0.         0.         0.         6.07068    4.3446894\n",
            "  0.         0.         0.         0.         0.         0.\n",
            "  9.662583   0.         0.         1.4349457  6.945547   2.7661276\n",
            "  0.93009675 0.         4.052825   6.6998405  0.         0.\n",
            "  0.         0.         3.9246595  0.         0.         0.\n",
            "  0.         4.094235   0.         0.         3.3808222  5.232932\n",
            "  0.         0.         0.         0.         0.4087144  0.\n",
            "  0.         0.         2.3285897  0.         0.         0.\n",
            "  4.8278637  0.         0.         0.         2.0761595  0.\n",
            "  0.         0.         0.         0.         0.         0.\n",
            "  0.         0.         6.251684   0.         3.085257   0.\n",
            "  0.         4.0704823  0.         1.5345285  0.         0.\n",
            "  0.         0.         1.0347697  0.         0.         0.\n",
            "  0.         2.0314295  0.         0.         0.         1.5777903\n",
            "  0.         0.        ]], shape=(1, 128), dtype=float32)\n",
            "oma tulos =  [ -4.464466     3.11612581  -4.12864385  -2.42833846  -3.38923949\n",
            "  -4.66700496   4.98160319  -4.41898022  -2.01705354  -1.62536249\n",
            "  -4.21755552  -5.40541254  -3.06112406  -2.05826115  -1.56366957\n",
            "  -4.34522031   0.91362362  -8.54530721  -4.61495043  -0.04676339\n",
            "  -2.19421854   5.56948854  -1.46510991   1.32108834  -2.24775867\n",
            "   2.9316284   -1.06588516  -2.7970075   -1.56050547   2.36569449\n",
            "  -1.93976864  -2.7987358    1.91519318   0.56354527   3.45357644\n",
            "  -5.82298365  -2.66207373  -1.2274978    0.9447625    1.61446749\n",
            "  -2.61440391  -3.03759436   0.8898637   -2.14645242  -2.05774221\n",
            "  -2.17772793   6.06005166   4.34107172  -0.54353926  -2.77357891\n",
            "  -0.3621134   -0.21742086  -1.86297481  -2.39428872   9.63457546\n",
            "  -1.40320641  -2.27946718   1.39238806   6.96547617   2.77872823\n",
            "   0.94843152  -3.11046068   4.02175541   6.65439803  -6.88604951\n",
            "  -1.69275461  -6.0935909   -0.69231091   3.91236983  -3.09373416\n",
            "  -0.27911419  -2.3039909   -2.81400167   4.06340949  -2.17339028\n",
            "  -1.30736758   3.32474016   5.27903067  -3.54660912  -3.87657718\n",
            "  -2.34343208  -5.69387468   0.33724335  -2.64949387  -4.34841561\n",
            "  -0.84829054   2.33389143  -2.19731642  -3.41028961  -2.68840939\n",
            "   4.79759795  -3.40230578  -0.76094164  -2.53828464   2.06411782\n",
            "  -2.57977289  -2.57172518  -5.28717737  -3.44498743  -5.51924722\n",
            "  -5.78720151  -1.53225171  -2.54694073  -2.71738486   6.22435101\n",
            "  -4.82768592   3.06767042  -1.71967183  -4.15044818   4.0258875\n",
            "  -4.35920637   1.53339251  -6.11786355 -10.95162618  -2.54236502\n",
            "  -1.44345366   1.02340251  -2.65411291  -1.99734467  -2.157499\n",
            "  -2.13148477   1.99915278  -1.95893575  -2.81244409  -2.24253731\n",
            "   1.54263093  -0.02707095  -0.2477976 ]\n"
          ]
        },
        {
          "output_type": "display_data",
          "data": {
            "text/plain": [
              "<Figure size 640x480 with 2 Axes>"
            ],
            "image/png": "[encoded data removed]"
          },
          "metadata": {}
        }
      ]
    },
    {
      "cell_type": "code",
      "source": [
        "\n",
        "\n",
        "\n",
        "(start, layer, end) = get_reference_layer(\"dense_5\", model)\n",
        "print(start)\n",
        "print(layer)\n",
        "print(end)\n",
        "#print(get_layer_weights(\"dense_1\",model))\n",
        "print(get_weights_shape(get_layer_weights(\"dense_5\",model)))\n",
        "weights = get_layer_weights(\"dense_5\",model)\n",
        "\n",
        "#print(\"Original input\", model.input_shape)\n",
        "#print(\"Start input\", start.input_shape)\n",
        "#print(\"Layer input\", layer.input.shape)\n",
        "#print(\"End input\", end.input_shape)\n",
        "\n",
        "# To use the model parts, call the part with the input data\n",
        "result = start(x)             # tämä antaa siis verkon oikean tuloksen ennen viimeistä dense_1\n",
        "                              # layeriä\n",
        "layer_result = layer(result)  # Ja tämä tuloksen dense_1:n jälkeen\n",
        "input = result                   # viimeiseen neuroverkon kerrokseen menevät 128 neuronia inputtina\n",
        "weights = weights[0]\n",
        "print(\"w1 = \", weights)\n",
        "print(\"w1 shape = \", weights.shape)\n",
        "biases = weights[1]\n",
        "\n",
        "\n",
        "print(\"b1 = \", biases)\n",
        "print(\"b1 shape = \", biases.shape)\n",
        "#layer_oma_result = dense2(a0,w1,b1)\n",
        "layer_oma_result = omaDense2(input, weights, biases)\n",
        "print(\"mallin tulos: \",layer_result)\n",
        "print(\"oma tulos = \",layer_oma_result)\n",
        "\n",
        "#print(layer_result)\n",
        "#print(layer_result.shape)\n",
        "#print(layer_result[0,:])\n",
        "x_labels = ['down', 'go', 'left', 'no', 'right', 'stop', 'up', 'yes']\n",
        "plt.figure(1)\n",
        "plt.subplot(1,2,1)\n",
        "plt.bar(x_labels, tf.nn.softmax(layer_result[0,:]))\n",
        "plt.subplot(1,2,2)\n",
        "#plt.bar(x_labels, tf.nn.softmax(layer_oma_result[0,:]))\n",
        "plt.bar(x_labels, tf.nn.softmax(layer_oma_result))\n",
        "#plt.title('No')\n",
        "plt.show()\n"
      ],
      "metadata": {
        "colab": {
          "base_uri": "https://localhost:8080/",
          "height": 1000
        },
        "id": "LAaV9-7cZlG-",
        "outputId": "6709eeba-4770-4fe6-d546-a36636dd0001"
      },
      "execution_count": 24,
      "outputs": [
        {
          "output_type": "stream",
          "name": "stdout",
          "text": [
            "<Sequential name=sequential_8, built=True>\n",
            "<Dense name=dense_5, built=True>\n",
            "<Sequential name=sequential_9, built=True>\n",
            "[(128, 8), (8,)]\n",
            "w1 =  [[ 0.23193    -0.00345198 -0.06106067 ... -0.10635072 -0.03818306\n",
            "   0.08541413]\n",
            " [-0.28014684 -0.21747205 -0.22168423 ...  0.10278736 -0.13503714\n",
            "   0.08518008]\n",
            " [ 0.12425625  0.13788082 -0.1141094  ... -0.16766551 -0.33786097\n",
            "   0.21356028]\n",
            " ...\n",
            " [ 0.18113837  0.12697735 -0.03900237 ... -0.30666432  0.07282024\n",
            "   0.17472439]\n",
            " [-0.34107208 -0.22085702  0.16504936 ...  0.02241605  0.16445051\n",
            "  -0.28607425]\n",
            " [ 0.06480125 -0.13283189  0.12667534 ... -0.02242472 -0.18755983\n",
            "   0.03869566]]\n",
            "w1 shape =  (128, 8)\n",
            "b1 =  [-0.28014684 -0.21747205 -0.22168423 -0.02524648  0.22613508  0.10278736\n",
            " -0.13503714  0.08518008]\n",
            "b1 shape =  (8,)\n",
            "[[0.         3.1455073  0.         0.         0.         0.\n",
            "  5.013664   0.         0.         0.         0.         0.\n",
            "  0.         0.         0.         0.         0.88946193 0.\n",
            "  0.         0.         0.         5.578272   0.         1.3765475\n",
            "  0.         3.0548756  0.         0.         0.         2.4253066\n",
            "  0.         0.         1.9630541  0.6542006  3.466017   0.\n",
            "  0.         0.         0.99378455 1.6381449  0.         0.\n",
            "  0.9141189  0.         0.         0.         6.07068    4.3446894\n",
            "  0.         0.         0.         0.         0.         0.\n",
            "  9.662583   0.         0.         1.4349457  6.945547   2.7661276\n",
            "  0.93009675 0.         4.052825   6.6998405  0.         0.\n",
            "  0.         0.         3.9246595  0.         0.         0.\n",
            "  0.         4.094235   0.         0.         3.3808222  5.232932\n",
            "  0.         0.         0.         0.         0.4087144  0.\n",
            "  0.         0.         2.3285897  0.         0.         0.\n",
            "  4.8278637  0.         0.         0.         2.0761595  0.\n",
            "  0.         0.         0.         0.         0.         0.\n",
            "  0.         0.         6.251684   0.         3.085257   0.\n",
            "  0.         4.0704823  0.         1.5345285  0.         0.\n",
            "  0.         0.         1.0347697  0.         0.         0.\n",
            "  0.         2.0314295  0.         0.         0.         1.5777903\n",
            "  0.         0.        ]] [[ 0.23193    -0.00345198 -0.06106067 ... -0.10635072 -0.03818306\n",
            "   0.08541413]\n",
            " [-0.28014684 -0.21747205 -0.22168423 ...  0.10278736 -0.13503714\n",
            "   0.08518008]\n",
            " [ 0.12425625  0.13788082 -0.1141094  ... -0.16766551 -0.33786097\n",
            "   0.21356028]\n",
            " ...\n",
            " [ 0.18113837  0.12697735 -0.03900237 ... -0.30666432  0.07282024\n",
            "   0.17472439]\n",
            " [-0.34107208 -0.22085702  0.16504936 ...  0.02241605  0.16445051\n",
            "  -0.28607425]\n",
            " [ 0.06480125 -0.13283189  0.12667534 ... -0.02242472 -0.18755983\n",
            "   0.03869566]] [-0.28014684 -0.21747205 -0.22168423 -0.02524648  0.22613508  0.10278736\n",
            " -0.13503714  0.08518008]\n",
            "[ -8.47005152  -3.24584912   3.21205466 -13.60302928  17.66137468\n",
            "  -6.17938139  -0.35806055  -8.18106906]\n",
            "mallin tulos:  tf.Tensor(\n",
            "[[ -8.178896   -3.0283148   3.4409945 -13.548908   17.432116   -6.3584085\n",
            "   -0.1563442  -8.32755  ]], shape=(1, 8), dtype=float32)\n",
            "oma tulos =  [ -8.47005152  -3.24584912   3.21205466 -13.60302928  17.66137468\n",
            "  -6.17938139  -0.35806055  -8.18106906]\n"
          ]
        },
        {
          "output_type": "display_data",
          "data": {
            "text/plain": [
              "<Figure size 640x480 with 2 Axes>"
            ],
            "image/png": "[encoded data removed]"
          },
          "metadata": {}
        }
      ]
    }
  ]
}